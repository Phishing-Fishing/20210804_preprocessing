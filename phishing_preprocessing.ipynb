{
  "nbformat": 4,
  "nbformat_minor": 0,
  "metadata": {
    "colab": {
      "name": "악성url_전처리.ipynb",
      "provenance": [],
      "collapsed_sections": []
    },
    "kernelspec": {
      "name": "python3",
      "display_name": "Python 3"
    },
    "language_info": {
      "name": "python"
    }
  },
  "cells": [
    {
      "cell_type": "markdown",
      "metadata": {
        "id": "CfIA498uiE7m"
      },
      "source": [
        "sample.csv 에는 일단 300개 데이터셋만 저장\n",
        "\n",
        "모든 함수는 악성 가능성이 있으면 1, 아니면 0\n",
        "ex) // 가 중간에 포함되면 1, 아니면 0"
      ]
    },
    {
      "cell_type": "code",
      "metadata": {
        "id": "UGVtBBTXsXH8",
        "colab": {
          "base_uri": "https://localhost:8080/"
        },
        "outputId": "c70c6c10-3794-408b-d883-6773d07e69ec"
      },
      "source": [
        "from google.colab import drive\n",
        "drive.mount('/content/drive')"
      ],
      "execution_count": 1,
      "outputs": [
        {
          "output_type": "stream",
          "text": [
            "Mounted at /content/drive\n"
          ],
          "name": "stdout"
        }
      ]
    },
    {
      "cell_type": "code",
      "metadata": {
        "colab": {
          "base_uri": "https://localhost:8080/",
          "height": 204
        },
        "id": "uFZ-945tsezr",
        "outputId": "ea20f795-a612-4cfc-897e-e94900a9c7fe"
      },
      "source": [
        "import pandas as pd\n",
        "import numpy as np\n",
        "import os\n",
        "\n",
        "data = pd.read_csv('/content/drive/MyDrive/Epro/url_dataset.csv')\n",
        "\n",
        "data.head()"
      ],
      "execution_count": 2,
      "outputs": [
        {
          "output_type": "execute_result",
          "data": {
            "text/html": [
              "<div>\n",
              "<style scoped>\n",
              "    .dataframe tbody tr th:only-of-type {\n",
              "        vertical-align: middle;\n",
              "    }\n",
              "\n",
              "    .dataframe tbody tr th {\n",
              "        vertical-align: top;\n",
              "    }\n",
              "\n",
              "    .dataframe thead th {\n",
              "        text-align: right;\n",
              "    }\n",
              "</style>\n",
              "<table border=\"1\" class=\"dataframe\">\n",
              "  <thead>\n",
              "    <tr style=\"text-align: right;\">\n",
              "      <th></th>\n",
              "      <th>id</th>\n",
              "      <th>url</th>\n",
              "    </tr>\n",
              "  </thead>\n",
              "  <tbody>\n",
              "    <tr>\n",
              "      <th>0</th>\n",
              "      <td>1</td>\n",
              "      <td>google.com</td>\n",
              "    </tr>\n",
              "    <tr>\n",
              "      <th>1</th>\n",
              "      <td>2</td>\n",
              "      <td>youtube.com</td>\n",
              "    </tr>\n",
              "    <tr>\n",
              "      <th>2</th>\n",
              "      <td>3</td>\n",
              "      <td>facebook.com</td>\n",
              "    </tr>\n",
              "    <tr>\n",
              "      <th>3</th>\n",
              "      <td>4</td>\n",
              "      <td>baidu.com</td>\n",
              "    </tr>\n",
              "    <tr>\n",
              "      <th>4</th>\n",
              "      <td>5</td>\n",
              "      <td>wikipedia.org</td>\n",
              "    </tr>\n",
              "  </tbody>\n",
              "</table>\n",
              "</div>"
            ],
            "text/plain": [
              "   id            url\n",
              "0   1     google.com\n",
              "1   2    youtube.com\n",
              "2   3   facebook.com\n",
              "3   4      baidu.com\n",
              "4   5  wikipedia.org"
            ]
          },
          "metadata": {
            "tags": []
          },
          "execution_count": 2
        }
      ]
    },
    {
      "cell_type": "code",
      "metadata": {
        "colab": {
          "base_uri": "https://localhost:8080/"
        },
        "id": "jyQukhRMLzJy",
        "outputId": "bec71735-48c7-4ded-e249-66de976698c6"
      },
      "source": [
        "data.info()"
      ],
      "execution_count": null,
      "outputs": [
        {
          "output_type": "stream",
          "text": [
            "<class 'pandas.core.frame.DataFrame'>\n",
            "RangeIndex: 299 entries, 0 to 298\n",
            "Data columns (total 8 columns):\n",
            " #   Column             Non-Null Count  Dtype \n",
            "---  ------             --------------  ----- \n",
            " 0   phish_id           299 non-null    int64 \n",
            " 1   url                299 non-null    object\n",
            " 2   phish_detail_url   299 non-null    object\n",
            " 3   submission_time    299 non-null    object\n",
            " 4   verified           299 non-null    object\n",
            " 5   verification_time  299 non-null    object\n",
            " 6   online             299 non-null    object\n",
            " 7   target             299 non-null    object\n",
            "dtypes: int64(1), object(7)\n",
            "memory usage: 18.8+ KB\n"
          ],
          "name": "stdout"
        }
      ]
    },
    {
      "cell_type": "markdown",
      "metadata": {
        "id": "yMTbMkF_aZik"
      },
      "source": [
        "## 전처리"
      ]
    },
    {
      "cell_type": "code",
      "metadata": {
        "id": "j5lW_o9Ttq-O"
      },
      "source": [
        "#url 길이\n",
        "\n",
        "def length(url):\n",
        "  return len(url)"
      ],
      "execution_count": 3,
      "outputs": []
    },
    {
      "cell_type": "code",
      "metadata": {
        "id": "QfxgLc6De0n2"
      },
      "source": [
        "#url 단축 여부\n",
        "import requests\n",
        "\n",
        "def url_shorten(url):\n",
        "    req = 'https://unshorten.me/json/'+url\n",
        "    response = requests.request(\"GET\", req).json()\n",
        "    if (response['success'] and response['resolved_url'] != url):    # 단축 url인 경우 -> 피싱\n",
        "        return 1\n",
        "    else:                                                            # 정상\n",
        "        return 0"
      ],
      "execution_count": 4,
      "outputs": []
    },
    {
      "cell_type": "code",
      "metadata": {
        "id": "tj3qL8_je4B3"
      },
      "source": [
        "#@여부\n",
        "\n",
        "def at_sign(url):\n",
        "  if '@' in url:\n",
        "    return 1\n",
        "  else:\n",
        "    return 0"
      ],
      "execution_count": 5,
      "outputs": []
    },
    {
      "cell_type": "code",
      "metadata": {
        "id": "60lhGgsxe5kb"
      },
      "source": [
        "# 중간에 // 여부, redirection 확인\n",
        "\n",
        "def double_slash(url):\n",
        "  if '//' in url[7:]:\n",
        "    return 1\n",
        "  else:\n",
        "    return 0"
      ],
      "execution_count": 6,
      "outputs": []
    },
    {
      "cell_type": "code",
      "metadata": {
        "id": "4IXdDEvOe7mp"
      },
      "source": [
        "#점 개수\n",
        "\n",
        "def dot(url):\n",
        "  return url.count('.')"
      ],
      "execution_count": 7,
      "outputs": []
    },
    {
      "cell_type": "markdown",
      "metadata": {
        "id": "-XxuT_svTaAM"
      },
      "source": [
        "https://m.blog.naver.com/PostView.naver?isHttpsRedirect=true&blogId=is_king&logNo=221520718981"
      ]
    },
    {
      "cell_type": "code",
      "metadata": {
        "id": "7BNjNYGSQZW8"
      },
      "source": [
        "#IP주소\n",
        "from urllib.parse import urlparse\n",
        "\n",
        "def IP_add(url):\n",
        "  parse = urlparse(url)\n",
        "  domain = parse.netloc.split('.')\n",
        "  try:\n",
        "    int(domain[-1],0)\n",
        "    return 1\n",
        "  except ValueError:\n",
        "    return 0"
      ],
      "execution_count": 8,
      "outputs": []
    },
    {
      "cell_type": "code",
      "metadata": {
        "id": "a_HR_466e9dP"
      },
      "source": [
        "# - 있는지\n",
        "\n",
        "def dash(url):\n",
        "  if '-' in url:\n",
        "    return 1\n",
        "  else:\n",
        "    return 0"
      ],
      "execution_count": 9,
      "outputs": []
    },
    {
      "cell_type": "code",
      "metadata": {
        "id": "wc5AKv-zT22x"
      },
      "source": [
        "#http 인지 https 인지 확인\n",
        "\n",
        "def http(url):\n",
        "  if url.startswith('http://'):\n",
        "    return 1\n",
        "  else:\n",
        "    return 0"
      ],
      "execution_count": 10,
      "outputs": []
    },
    {
      "cell_type": "code",
      "metadata": {
        "colab": {
          "base_uri": "https://localhost:8080/",
          "height": 204
        },
        "id": "InY7Nj86Zpqo",
        "outputId": "1c5de010-2893-4534-ceef-860efa757687"
      },
      "source": [
        "file = pd.read_csv('/content/drive/MyDrive/Epro/topsites.csv')\n",
        "\n",
        "file.head()"
      ],
      "execution_count": 11,
      "outputs": [
        {
          "output_type": "execute_result",
          "data": {
            "text/html": [
              "<div>\n",
              "<style scoped>\n",
              "    .dataframe tbody tr th:only-of-type {\n",
              "        vertical-align: middle;\n",
              "    }\n",
              "\n",
              "    .dataframe tbody tr th {\n",
              "        vertical-align: top;\n",
              "    }\n",
              "\n",
              "    .dataframe thead th {\n",
              "        text-align: right;\n",
              "    }\n",
              "</style>\n",
              "<table border=\"1\" class=\"dataframe\">\n",
              "  <thead>\n",
              "    <tr style=\"text-align: right;\">\n",
              "      <th></th>\n",
              "      <th>topsites</th>\n",
              "    </tr>\n",
              "  </thead>\n",
              "  <tbody>\n",
              "    <tr>\n",
              "      <th>0</th>\n",
              "      <td>google.com</td>\n",
              "    </tr>\n",
              "    <tr>\n",
              "      <th>1</th>\n",
              "      <td>youtube.com</td>\n",
              "    </tr>\n",
              "    <tr>\n",
              "      <th>2</th>\n",
              "      <td>facebook.com</td>\n",
              "    </tr>\n",
              "    <tr>\n",
              "      <th>3</th>\n",
              "      <td>baidu.com</td>\n",
              "    </tr>\n",
              "    <tr>\n",
              "      <th>4</th>\n",
              "      <td>wikipedia.org</td>\n",
              "    </tr>\n",
              "  </tbody>\n",
              "</table>\n",
              "</div>"
            ],
            "text/plain": [
              "        topsites\n",
              "0     google.com\n",
              "1    youtube.com\n",
              "2   facebook.com\n",
              "3      baidu.com\n",
              "4  wikipedia.org"
            ]
          },
          "metadata": {
            "tags": []
          },
          "execution_count": 11
        }
      ]
    },
    {
      "cell_type": "code",
      "metadata": {
        "colab": {
          "base_uri": "https://localhost:8080/"
        },
        "id": "nYkd6AJDaPGG",
        "outputId": "d68751c4-4d6e-4af4-f13b-25ac97b83d62"
      },
      "source": [
        "list = []\n",
        "for index in file['topsites']:\n",
        "  list.append(index.split('.')[0].lower())\n",
        "\n",
        "print(list)"
      ],
      "execution_count": 12,
      "outputs": [
        {
          "output_type": "stream",
          "text": [
            "['google', 'youtube', 'facebook', 'baidu', 'wikipedia', 'yahoo', 'google', 'reddit', 'qq', 'amazon', 'taobao', 'twitter', 'tmall', 'google', 'live', 'vk', 'instagram', 'sohu', 'sina', 'jd', 'weibo', '360', 'google', 'google', 'linkedin', 'google', 'list', 'google', 'google', 'yandex', 'netflix', 'google', 'yahoo', 'google', 't', 'ebay', 'google', 'pornhub', 'imgur', 'bing', 'msn', 'onclkds', 'twitch', 'google', 'google', 'tumblr', 'gmw', 'alipay', 'livejasmin', 'xvideos', 'mail', 'microsoft', 'ok', 'aliexpress', 'wordpress', 'hao123', 'stackoverflow', 'imdb', 'github', 'amazon', 'blogspot', 'pinterest', 'csdn', 'wikia', 'apple', 'google', 'popads', 'youth', 'office', 'bongacams', 'paypal', 'microsoftonline', 'google', 'google', 'whatsapp', 'google', 'xhamster', 'detail', 'diply', 'google', 'adobe', 'coccoc', 'craigslist', 'nicovideo', 'txxx', 'dropbox', 'amazon', 'google', 'amazon', 'googleusercontent', 'google', 'booking', 'thepiratebay', 'google', 'porn555', 'kbstar', 'shinhan', 'wooribank', 'ibk', 'kakaobank']\n"
          ],
          "name": "stdout"
        }
      ]
    },
    {
      "cell_type": "code",
      "metadata": {
        "id": "dlpOKnY4e_UL"
      },
      "source": [
        "#이미 사용되고있는 사이트명 / 브랜드명을 사용하고 있는지 -> alexa 등에서 저장하기\n",
        "\n",
        "def brands_without_similarity(url):\n",
        "  domain = urlparse(url).netloc.lower()\n",
        "  for names in list:\n",
        "    if names in domain:\n",
        "      return 1\n",
        "    else:\n",
        "      return 0"
      ],
      "execution_count": null,
      "outputs": []
    },
    {
      "cell_type": "code",
      "metadata": {
        "id": "rjD6YeHd3AHg"
      },
      "source": [
        "#브랜드명 유사도 비교해서 검색\n",
        "\n",
        "def ngram(s, num):  #num : 몇글자씩 끊을 건지\n",
        "    res=[]\n",
        "    slen=len(s)-num+1 # slen : 끊었을 때 나오는 개수\n",
        "    for i in range (slen):\n",
        "        ss=s[i:i+num] #num만큼 s문자열에서 단어 자르기\n",
        "        res.append(ss) #자른 단어는 res배열에 저장\n",
        "    return res\n",
        "\n",
        "def diff_ngram(sa,sb,num):\n",
        "    a=ngram(sa,num)\t#a문자열을 num단어씩 자른 배열\n",
        "    b=ngram(sb,num) #b문자열을 num단어씩 자른 배열\n",
        "    r=[]\n",
        "    cnt=0\n",
        "    for i in a:\n",
        "        for j in b:\n",
        "            if i==j:    #a에서 자른 단어가 b에도 있다면\n",
        "                cnt+=1   #cnt++\n",
        "                r.append(i) #중복되는 단어i를 r배열에 추가한다.\n",
        "    return cnt/len(b) #cnt/len=(중복되는 횟수/b의 길이), r=중복되는 단어\n",
        "\n",
        "def brands(url):\n",
        "  domain = urlparse(url).netloc.lower()\n",
        "  for names in list:\n",
        "    return diff_ngram(domain, names, 2)"
      ],
      "execution_count": 48,
      "outputs": []
    },
    {
      "cell_type": "code",
      "metadata": {
        "colab": {
          "base_uri": "https://localhost:8080/"
        },
        "id": "FOoz9KVm4phI",
        "outputId": "80f9ff75-72cf-4ae3-c208-a10f44fd6d89"
      },
      "source": [
        "# example = 'https://azamzon.zapto.org/'\n",
        "\n",
        "# res = diff_ngram(example, 'amazon',2)\n",
        "\n",
        "# print(res)"
      ],
      "execution_count": 45,
      "outputs": [
        {
          "output_type": "stream",
          "text": [
            "(0.8, ['am', 'ma', 'az', 'zo', 'on'], ['az', 'am', 'zo', 'on'])\n"
          ],
          "name": "stdout"
        }
      ]
    },
    {
      "cell_type": "code",
      "metadata": {
        "id": "ao2xx5nsadV4"
      },
      "source": [
        "res = []\n",
        "index = 0\n",
        "\n",
        "for url in data['url']:\n",
        "  res.append([])\n",
        "  res[index].append(length(url))\n",
        "  res[index].append(url_shorten(url))\n",
        "  res[index].append(at_sign(url))\n",
        "  res[index].append(double_slash(url))\n",
        "  res[index].append(dot(url))\n",
        "  res[index].append(IP_add(url))\n",
        "  res[index].append(dash(url))\n",
        "  res[index].append(http(url))\n",
        "  res[index].append(brands(url))\n",
        "\n",
        "  index+=1"
      ],
      "execution_count": 50,
      "outputs": []
    },
    {
      "cell_type": "code",
      "metadata": {
        "colab": {
          "base_uri": "https://localhost:8080/"
        },
        "id": "WlFT2-3ybdqQ",
        "outputId": "6433731f-02dd-4841-f690-82ad09dba19a"
      },
      "source": [
        "for i in range(10):\n",
        "  print(res[i])"
      ],
      "execution_count": 51,
      "outputs": [
        {
          "output_type": "stream",
          "text": [
            "[10, 0, 0, 1, 0, 0, 0, 0.0]\n",
            "[11, 0, 0, 1, 0, 0, 0, 0.0]\n",
            "[12, 0, 0, 1, 0, 0, 0, 0.0]\n",
            "[9, 0, 0, 1, 0, 0, 0, 0.0]\n",
            "[13, 0, 0, 1, 0, 0, 0, 0.0]\n",
            "[9, 0, 0, 1, 0, 0, 0, 0.0]\n",
            "[12, 0, 0, 2, 0, 0, 0, 0.0]\n",
            "[10, 0, 0, 1, 0, 0, 0, 0.0]\n",
            "[6, 0, 0, 1, 0, 0, 0, 0.0]\n",
            "[10, 0, 0, 1, 0, 0, 0, 0.0]\n"
          ],
          "name": "stdout"
        }
      ]
    },
    {
      "cell_type": "markdown",
      "metadata": {
        "id": "zA55SHL8buqQ"
      },
      "source": [
        "dataframe"
      ]
    },
    {
      "cell_type": "code",
      "metadata": {
        "id": "bKsHlBdSbuYN"
      },
      "source": [
        "columns = ['length', 'url_shorten', 'at_sign', 'redirection', 'dot', 'IP', 'dash', 'http', 'brands']\n",
        "final_res = pd.DataFrame(res, columns= columns)"
      ],
      "execution_count": 52,
      "outputs": []
    },
    {
      "cell_type": "code",
      "metadata": {
        "colab": {
          "base_uri": "https://localhost:8080/"
        },
        "id": "G5VkjCS5cMYB",
        "outputId": "d73ae141-425a-4cdb-e558-9ffb671d5584"
      },
      "source": [
        "final_res.info()"
      ],
      "execution_count": 53,
      "outputs": [
        {
          "output_type": "stream",
          "text": [
            "<class 'pandas.core.frame.DataFrame'>\n",
            "RangeIndex: 14038 entries, 0 to 14037\n",
            "Data columns (total 8 columns):\n",
            " #   Column       Non-Null Count  Dtype  \n",
            "---  ------       --------------  -----  \n",
            " 0   length       14038 non-null  int64  \n",
            " 1   at_sign      14038 non-null  int64  \n",
            " 2   redirection  14038 non-null  int64  \n",
            " 3   dot          14038 non-null  int64  \n",
            " 4   IP           14038 non-null  int64  \n",
            " 5   dash         14038 non-null  int64  \n",
            " 6   http         14038 non-null  int64  \n",
            " 7   brands       14038 non-null  float64\n",
            "dtypes: float64(1), int64(7)\n",
            "memory usage: 877.5 KB\n"
          ],
          "name": "stdout"
        }
      ]
    },
    {
      "cell_type": "code",
      "metadata": {
        "colab": {
          "base_uri": "https://localhost:8080/",
          "height": 204
        },
        "id": "KOBi9mtgcOXI",
        "outputId": "f8a2a9d5-3bd4-4203-c9a8-122cdd57a5bb"
      },
      "source": [
        "final_res.head()"
      ],
      "execution_count": 54,
      "outputs": [
        {
          "output_type": "execute_result",
          "data": {
            "text/html": [
              "<div>\n",
              "<style scoped>\n",
              "    .dataframe tbody tr th:only-of-type {\n",
              "        vertical-align: middle;\n",
              "    }\n",
              "\n",
              "    .dataframe tbody tr th {\n",
              "        vertical-align: top;\n",
              "    }\n",
              "\n",
              "    .dataframe thead th {\n",
              "        text-align: right;\n",
              "    }\n",
              "</style>\n",
              "<table border=\"1\" class=\"dataframe\">\n",
              "  <thead>\n",
              "    <tr style=\"text-align: right;\">\n",
              "      <th></th>\n",
              "      <th>length</th>\n",
              "      <th>at_sign</th>\n",
              "      <th>redirection</th>\n",
              "      <th>dot</th>\n",
              "      <th>IP</th>\n",
              "      <th>dash</th>\n",
              "      <th>http</th>\n",
              "      <th>brands</th>\n",
              "    </tr>\n",
              "  </thead>\n",
              "  <tbody>\n",
              "    <tr>\n",
              "      <th>0</th>\n",
              "      <td>10</td>\n",
              "      <td>0</td>\n",
              "      <td>0</td>\n",
              "      <td>1</td>\n",
              "      <td>0</td>\n",
              "      <td>0</td>\n",
              "      <td>0</td>\n",
              "      <td>0.0</td>\n",
              "    </tr>\n",
              "    <tr>\n",
              "      <th>1</th>\n",
              "      <td>11</td>\n",
              "      <td>0</td>\n",
              "      <td>0</td>\n",
              "      <td>1</td>\n",
              "      <td>0</td>\n",
              "      <td>0</td>\n",
              "      <td>0</td>\n",
              "      <td>0.0</td>\n",
              "    </tr>\n",
              "    <tr>\n",
              "      <th>2</th>\n",
              "      <td>12</td>\n",
              "      <td>0</td>\n",
              "      <td>0</td>\n",
              "      <td>1</td>\n",
              "      <td>0</td>\n",
              "      <td>0</td>\n",
              "      <td>0</td>\n",
              "      <td>0.0</td>\n",
              "    </tr>\n",
              "    <tr>\n",
              "      <th>3</th>\n",
              "      <td>9</td>\n",
              "      <td>0</td>\n",
              "      <td>0</td>\n",
              "      <td>1</td>\n",
              "      <td>0</td>\n",
              "      <td>0</td>\n",
              "      <td>0</td>\n",
              "      <td>0.0</td>\n",
              "    </tr>\n",
              "    <tr>\n",
              "      <th>4</th>\n",
              "      <td>13</td>\n",
              "      <td>0</td>\n",
              "      <td>0</td>\n",
              "      <td>1</td>\n",
              "      <td>0</td>\n",
              "      <td>0</td>\n",
              "      <td>0</td>\n",
              "      <td>0.0</td>\n",
              "    </tr>\n",
              "  </tbody>\n",
              "</table>\n",
              "</div>"
            ],
            "text/plain": [
              "   length  at_sign  redirection  dot  IP  dash  http  brands\n",
              "0      10        0            0    1   0     0     0     0.0\n",
              "1      11        0            0    1   0     0     0     0.0\n",
              "2      12        0            0    1   0     0     0     0.0\n",
              "3       9        0            0    1   0     0     0     0.0\n",
              "4      13        0            0    1   0     0     0     0.0"
            ]
          },
          "metadata": {
            "tags": []
          },
          "execution_count": 54
        }
      ]
    },
    {
      "cell_type": "code",
      "metadata": {
        "colab": {
          "base_uri": "https://localhost:8080/",
          "height": 297
        },
        "id": "wytkitHpcxKq",
        "outputId": "19279d2d-6cbb-4cb6-8de0-fe9062d23111"
      },
      "source": [
        "final_res.describe()"
      ],
      "execution_count": 55,
      "outputs": [
        {
          "output_type": "execute_result",
          "data": {
            "text/html": [
              "<div>\n",
              "<style scoped>\n",
              "    .dataframe tbody tr th:only-of-type {\n",
              "        vertical-align: middle;\n",
              "    }\n",
              "\n",
              "    .dataframe tbody tr th {\n",
              "        vertical-align: top;\n",
              "    }\n",
              "\n",
              "    .dataframe thead th {\n",
              "        text-align: right;\n",
              "    }\n",
              "</style>\n",
              "<table border=\"1\" class=\"dataframe\">\n",
              "  <thead>\n",
              "    <tr style=\"text-align: right;\">\n",
              "      <th></th>\n",
              "      <th>length</th>\n",
              "      <th>at_sign</th>\n",
              "      <th>redirection</th>\n",
              "      <th>dot</th>\n",
              "      <th>IP</th>\n",
              "      <th>dash</th>\n",
              "      <th>http</th>\n",
              "      <th>brands</th>\n",
              "    </tr>\n",
              "  </thead>\n",
              "  <tbody>\n",
              "    <tr>\n",
              "      <th>count</th>\n",
              "      <td>14038.000000</td>\n",
              "      <td>14038.000000</td>\n",
              "      <td>14038.000000</td>\n",
              "      <td>14038.000000</td>\n",
              "      <td>14038.000000</td>\n",
              "      <td>14038.00000</td>\n",
              "      <td>14038.000000</td>\n",
              "      <td>14038.000000</td>\n",
              "    </tr>\n",
              "    <tr>\n",
              "      <th>mean</th>\n",
              "      <td>37.665978</td>\n",
              "      <td>0.016598</td>\n",
              "      <td>0.004132</td>\n",
              "      <td>1.792349</td>\n",
              "      <td>0.007622</td>\n",
              "      <td>0.23586</td>\n",
              "      <td>0.215415</td>\n",
              "      <td>0.033010</td>\n",
              "    </tr>\n",
              "    <tr>\n",
              "      <th>std</th>\n",
              "      <td>55.547910</td>\n",
              "      <td>0.127763</td>\n",
              "      <td>0.064147</td>\n",
              "      <td>1.870337</td>\n",
              "      <td>0.086975</td>\n",
              "      <td>0.42455</td>\n",
              "      <td>0.411125</td>\n",
              "      <td>0.140086</td>\n",
              "    </tr>\n",
              "    <tr>\n",
              "      <th>min</th>\n",
              "      <td>4.000000</td>\n",
              "      <td>0.000000</td>\n",
              "      <td>0.000000</td>\n",
              "      <td>1.000000</td>\n",
              "      <td>0.000000</td>\n",
              "      <td>0.00000</td>\n",
              "      <td>0.000000</td>\n",
              "      <td>0.000000</td>\n",
              "    </tr>\n",
              "    <tr>\n",
              "      <th>25%</th>\n",
              "      <td>12.000000</td>\n",
              "      <td>0.000000</td>\n",
              "      <td>0.000000</td>\n",
              "      <td>1.000000</td>\n",
              "      <td>0.000000</td>\n",
              "      <td>0.00000</td>\n",
              "      <td>0.000000</td>\n",
              "      <td>0.000000</td>\n",
              "    </tr>\n",
              "    <tr>\n",
              "      <th>50%</th>\n",
              "      <td>20.000000</td>\n",
              "      <td>0.000000</td>\n",
              "      <td>0.000000</td>\n",
              "      <td>1.000000</td>\n",
              "      <td>0.000000</td>\n",
              "      <td>0.00000</td>\n",
              "      <td>0.000000</td>\n",
              "      <td>0.000000</td>\n",
              "    </tr>\n",
              "    <tr>\n",
              "      <th>75%</th>\n",
              "      <td>45.000000</td>\n",
              "      <td>0.000000</td>\n",
              "      <td>0.000000</td>\n",
              "      <td>2.000000</td>\n",
              "      <td>0.000000</td>\n",
              "      <td>0.00000</td>\n",
              "      <td>0.000000</td>\n",
              "      <td>0.000000</td>\n",
              "    </tr>\n",
              "    <tr>\n",
              "      <th>max</th>\n",
              "      <td>2631.000000</td>\n",
              "      <td>1.000000</td>\n",
              "      <td>1.000000</td>\n",
              "      <td>148.000000</td>\n",
              "      <td>1.000000</td>\n",
              "      <td>1.00000</td>\n",
              "      <td>1.000000</td>\n",
              "      <td>1.200000</td>\n",
              "    </tr>\n",
              "  </tbody>\n",
              "</table>\n",
              "</div>"
            ],
            "text/plain": [
              "             length       at_sign  ...          http        brands\n",
              "count  14038.000000  14038.000000  ...  14038.000000  14038.000000\n",
              "mean      37.665978      0.016598  ...      0.215415      0.033010\n",
              "std       55.547910      0.127763  ...      0.411125      0.140086\n",
              "min        4.000000      0.000000  ...      0.000000      0.000000\n",
              "25%       12.000000      0.000000  ...      0.000000      0.000000\n",
              "50%       20.000000      0.000000  ...      0.000000      0.000000\n",
              "75%       45.000000      0.000000  ...      0.000000      0.000000\n",
              "max     2631.000000      1.000000  ...      1.000000      1.200000\n",
              "\n",
              "[8 rows x 8 columns]"
            ]
          },
          "metadata": {
            "tags": []
          },
          "execution_count": 55
        }
      ]
    },
    {
      "cell_type": "code",
      "metadata": {
        "id": "HCRVHDAnc41m"
      },
      "source": [
        "final_res.to_csv('/content/drive/MyDrive/Epro/final_preprocessed_data.csv')"
      ],
      "execution_count": 56,
      "outputs": []
    }
  ]
}