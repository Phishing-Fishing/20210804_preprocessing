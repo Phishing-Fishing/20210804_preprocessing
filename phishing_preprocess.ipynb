{
  "nbformat": 4,
  "nbformat_minor": 0,
  "metadata": {
    "colab": {
      "name": "phishing_preprocess.ipynb",
      "provenance": [],
      "collapsed_sections": []
    },
    "kernelspec": {
      "name": "python3",
      "display_name": "Python 3"
    },
    "language_info": {
      "name": "python"
    }
  },
  "cells": [
    {
      "cell_type": "code",
      "metadata": {
        "colab": {
          "base_uri": "https://localhost:8080/"
        },
        "id": "7vY4YUDq6AIm",
        "outputId": "0ae3df3f-5b32-49a5-e253-0809055fc355"
      },
      "source": [
        "import numpy as np\n",
        "import pandas as pd\n",
        "import os\n",
        "from google.colab import drive\n",
        "drive.mount('/content/drive')"
      ],
      "execution_count": 1,
      "outputs": [
        {
          "output_type": "stream",
          "text": [
            "Mounted at /content/drive\n"
          ],
          "name": "stdout"
        }
      ]
    },
    {
      "cell_type": "code",
      "metadata": {
        "colab": {
          "base_uri": "https://localhost:8080/"
        },
        "id": "olt0mjeI9q1o",
        "outputId": "ede1b2b3-c46f-4819-f361-c2bc5c838065"
      },
      "source": [
        "!pip install tld"
      ],
      "execution_count": 2,
      "outputs": [
        {
          "output_type": "stream",
          "text": [
            "Collecting tld\n",
            "  Downloading tld-0.12.6-py37-none-any.whl (412 kB)\n",
            "\u001b[?25l\r\u001b[K     |▉                               | 10 kB 21.9 MB/s eta 0:00:01\r\u001b[K     |█▋                              | 20 kB 28.0 MB/s eta 0:00:01\r\u001b[K     |██▍                             | 30 kB 12.1 MB/s eta 0:00:01\r\u001b[K     |███▏                            | 40 kB 9.3 MB/s eta 0:00:01\r\u001b[K     |████                            | 51 kB 5.2 MB/s eta 0:00:01\r\u001b[K     |████▊                           | 61 kB 5.7 MB/s eta 0:00:01\r\u001b[K     |█████▋                          | 71 kB 6.1 MB/s eta 0:00:01\r\u001b[K     |██████▍                         | 81 kB 6.2 MB/s eta 0:00:01\r\u001b[K     |███████▏                        | 92 kB 4.6 MB/s eta 0:00:01\r\u001b[K     |████████                        | 102 kB 5.0 MB/s eta 0:00:01\r\u001b[K     |████████▊                       | 112 kB 5.0 MB/s eta 0:00:01\r\u001b[K     |█████████▌                      | 122 kB 5.0 MB/s eta 0:00:01\r\u001b[K     |██████████▍                     | 133 kB 5.0 MB/s eta 0:00:01\r\u001b[K     |███████████▏                    | 143 kB 5.0 MB/s eta 0:00:01\r\u001b[K     |████████████                    | 153 kB 5.0 MB/s eta 0:00:01\r\u001b[K     |████████████▊                   | 163 kB 5.0 MB/s eta 0:00:01\r\u001b[K     |█████████████▌                  | 174 kB 5.0 MB/s eta 0:00:01\r\u001b[K     |██████████████▎                 | 184 kB 5.0 MB/s eta 0:00:01\r\u001b[K     |███████████████                 | 194 kB 5.0 MB/s eta 0:00:01\r\u001b[K     |████████████████                | 204 kB 5.0 MB/s eta 0:00:01\r\u001b[K     |████████████████▊               | 215 kB 5.0 MB/s eta 0:00:01\r\u001b[K     |█████████████████▌              | 225 kB 5.0 MB/s eta 0:00:01\r\u001b[K     |██████████████████▎             | 235 kB 5.0 MB/s eta 0:00:01\r\u001b[K     |███████████████████             | 245 kB 5.0 MB/s eta 0:00:01\r\u001b[K     |███████████████████▉            | 256 kB 5.0 MB/s eta 0:00:01\r\u001b[K     |████████████████████▊           | 266 kB 5.0 MB/s eta 0:00:01\r\u001b[K     |█████████████████████▌          | 276 kB 5.0 MB/s eta 0:00:01\r\u001b[K     |██████████████████████▎         | 286 kB 5.0 MB/s eta 0:00:01\r\u001b[K     |███████████████████████         | 296 kB 5.0 MB/s eta 0:00:01\r\u001b[K     |███████████████████████▉        | 307 kB 5.0 MB/s eta 0:00:01\r\u001b[K     |████████████████████████▋       | 317 kB 5.0 MB/s eta 0:00:01\r\u001b[K     |█████████████████████████▍      | 327 kB 5.0 MB/s eta 0:00:01\r\u001b[K     |██████████████████████████▎     | 337 kB 5.0 MB/s eta 0:00:01\r\u001b[K     |███████████████████████████     | 348 kB 5.0 MB/s eta 0:00:01\r\u001b[K     |███████████████████████████▉    | 358 kB 5.0 MB/s eta 0:00:01\r\u001b[K     |████████████████████████████▋   | 368 kB 5.0 MB/s eta 0:00:01\r\u001b[K     |█████████████████████████████▍  | 378 kB 5.0 MB/s eta 0:00:01\r\u001b[K     |██████████████████████████████▏ | 389 kB 5.0 MB/s eta 0:00:01\r\u001b[K     |███████████████████████████████ | 399 kB 5.0 MB/s eta 0:00:01\r\u001b[K     |███████████████████████████████▉| 409 kB 5.0 MB/s eta 0:00:01\r\u001b[K     |████████████████████████████████| 412 kB 5.0 MB/s \n",
            "\u001b[?25hInstalling collected packages: tld\n",
            "Successfully installed tld-0.12.6\n"
          ],
          "name": "stdout"
        }
      ]
    },
    {
      "cell_type": "code",
      "metadata": {
        "id": "VGfPjN-W6HSf"
      },
      "source": [
        "path = '/content/drive/MyDrive/verified_online.csv'"
      ],
      "execution_count": 3,
      "outputs": []
    },
    {
      "cell_type": "code",
      "metadata": {
        "colab": {
          "base_uri": "https://localhost:8080/",
          "height": 307
        },
        "id": "Z3pXLBh06XC8",
        "outputId": "05f2aec6-69c1-41ac-b7c3-d9b96feb6e6a"
      },
      "source": [
        "df = pd.read_csv(path)   # 데이터 로드\n",
        "df.head()"
      ],
      "execution_count": 4,
      "outputs": [
        {
          "output_type": "execute_result",
          "data": {
            "text/html": [
              "<div>\n",
              "<style scoped>\n",
              "    .dataframe tbody tr th:only-of-type {\n",
              "        vertical-align: middle;\n",
              "    }\n",
              "\n",
              "    .dataframe tbody tr th {\n",
              "        vertical-align: top;\n",
              "    }\n",
              "\n",
              "    .dataframe thead th {\n",
              "        text-align: right;\n",
              "    }\n",
              "</style>\n",
              "<table border=\"1\" class=\"dataframe\">\n",
              "  <thead>\n",
              "    <tr style=\"text-align: right;\">\n",
              "      <th></th>\n",
              "      <th>phish_id</th>\n",
              "      <th>url</th>\n",
              "      <th>phish_detail_url</th>\n",
              "      <th>submission_time</th>\n",
              "      <th>verified</th>\n",
              "      <th>verification_time</th>\n",
              "      <th>online</th>\n",
              "      <th>target</th>\n",
              "    </tr>\n",
              "  </thead>\n",
              "  <tbody>\n",
              "    <tr>\n",
              "      <th>0</th>\n",
              "      <td>7234051</td>\n",
              "      <td>http://seguridadar7912.byethost9.com/pase.php</td>\n",
              "      <td>http://www.phishtank.com/phish_detail.php?phis...</td>\n",
              "      <td>2021-07-19T04:06:30+00:00</td>\n",
              "      <td>yes</td>\n",
              "      <td>2021-07-19T04:15:44+00:00</td>\n",
              "      <td>yes</td>\n",
              "      <td>Other</td>\n",
              "    </tr>\n",
              "    <tr>\n",
              "      <th>1</th>\n",
              "      <td>7234046</td>\n",
              "      <td>http://kpatacusot.com/first/mazon/amazon/homep...</td>\n",
              "      <td>http://www.phishtank.com/phish_detail.php?phis...</td>\n",
              "      <td>2021-07-19T04:00:33+00:00</td>\n",
              "      <td>yes</td>\n",
              "      <td>2021-07-19T04:06:20+00:00</td>\n",
              "      <td>yes</td>\n",
              "      <td>Other</td>\n",
              "    </tr>\n",
              "    <tr>\n",
              "      <th>2</th>\n",
              "      <td>7234045</td>\n",
              "      <td>http://kpatacusot.com/first/mazon/f7404/</td>\n",
              "      <td>http://www.phishtank.com/phish_detail.php?phis...</td>\n",
              "      <td>2021-07-19T04:00:30+00:00</td>\n",
              "      <td>yes</td>\n",
              "      <td>2021-07-19T04:06:20+00:00</td>\n",
              "      <td>yes</td>\n",
              "      <td>Other</td>\n",
              "    </tr>\n",
              "    <tr>\n",
              "      <th>3</th>\n",
              "      <td>7234044</td>\n",
              "      <td>https://hufschuh.app/online.americanexpress.com</td>\n",
              "      <td>http://www.phishtank.com/phish_detail.php?phis...</td>\n",
              "      <td>2021-07-19T04:00:25+00:00</td>\n",
              "      <td>yes</td>\n",
              "      <td>2021-07-19T04:06:20+00:00</td>\n",
              "      <td>yes</td>\n",
              "      <td>Other</td>\n",
              "    </tr>\n",
              "    <tr>\n",
              "      <th>4</th>\n",
              "      <td>7234043</td>\n",
              "      <td>http://kpatacusot.com/first/mazon/amazon/</td>\n",
              "      <td>http://www.phishtank.com/phish_detail.php?phis...</td>\n",
              "      <td>2021-07-19T04:00:20+00:00</td>\n",
              "      <td>yes</td>\n",
              "      <td>2021-07-19T04:06:20+00:00</td>\n",
              "      <td>yes</td>\n",
              "      <td>Other</td>\n",
              "    </tr>\n",
              "  </tbody>\n",
              "</table>\n",
              "</div>"
            ],
            "text/plain": [
              "   phish_id                                                url  ... online target\n",
              "0   7234051      http://seguridadar7912.byethost9.com/pase.php  ...    yes  Other\n",
              "1   7234046  http://kpatacusot.com/first/mazon/amazon/homep...  ...    yes  Other\n",
              "2   7234045           http://kpatacusot.com/first/mazon/f7404/  ...    yes  Other\n",
              "3   7234044    https://hufschuh.app/online.americanexpress.com  ...    yes  Other\n",
              "4   7234043          http://kpatacusot.com/first/mazon/amazon/  ...    yes  Other\n",
              "\n",
              "[5 rows x 8 columns]"
            ]
          },
          "metadata": {
            "tags": []
          },
          "execution_count": 4
        }
      ]
    },
    {
      "cell_type": "code",
      "metadata": {
        "colab": {
          "base_uri": "https://localhost:8080/"
        },
        "id": "YN5oeFeE60zr",
        "outputId": "be4a21ab-cc43-42d8-fe1b-a216cca47169"
      },
      "source": [
        "df.info()"
      ],
      "execution_count": 5,
      "outputs": [
        {
          "output_type": "stream",
          "text": [
            "<class 'pandas.core.frame.DataFrame'>\n",
            "RangeIndex: 10639 entries, 0 to 10638\n",
            "Data columns (total 8 columns):\n",
            " #   Column             Non-Null Count  Dtype \n",
            "---  ------             --------------  ----- \n",
            " 0   phish_id           10639 non-null  int64 \n",
            " 1   url                10639 non-null  object\n",
            " 2   phish_detail_url   10639 non-null  object\n",
            " 3   submission_time    10639 non-null  object\n",
            " 4   verified           10639 non-null  object\n",
            " 5   verification_time  10639 non-null  object\n",
            " 6   online             10639 non-null  object\n",
            " 7   target             10639 non-null  object\n",
            "dtypes: int64(1), object(7)\n",
            "memory usage: 665.1+ KB\n"
          ],
          "name": "stdout"
        }
      ]
    },
    {
      "cell_type": "markdown",
      "metadata": {
        "id": "UnFMKgcw6kny"
      },
      "source": [
        "## 데이터 전처리"
      ]
    },
    {
      "cell_type": "code",
      "metadata": {
        "id": "x9yMgsio1j71"
      },
      "source": [
        "# url 단축 여부\n",
        "import requests\n",
        "\n",
        "# 시간당 100 request 한정\n",
        "def url_shorten(url):\n",
        "    req = 'http://expandurl.com/api/v1/?url='+url+'&format=json&detailed=true'\n",
        "    response = requests.request(\"GET\", req).json()\n",
        "    if response['url'] != url:    # 단축 url인 경우 -> 피싱\n",
        "        return 1\n",
        "    else:                         # 정상\n",
        "        return -1"
      ],
      "execution_count": 6,
      "outputs": []
    },
    {
      "cell_type": "code",
      "metadata": {
        "id": "yL2KczNynPaq"
      },
      "source": [
        "# url 단축 여부\n",
        "import requests\n",
        "\n",
        "# 만족하는 경우 별로 없음\n",
        "def url_shorten_2(url):\n",
        "    req = 'https://unshorten.me/json/'+url\n",
        "    response = requests.request(\"GET\", req).json()\n",
        "    if (response['success'] and response['resolved_url'] != url):    # 단축 url인 경우 -> 피싱\n",
        "        return 1\n",
        "    else:                                                            # 정상\n",
        "        return -1"
      ],
      "execution_count": 21,
      "outputs": []
    },
    {
      "cell_type": "code",
      "metadata": {
        "id": "hiqBgeQhBnD9"
      },
      "source": [
        "# url 길이\n",
        "\n",
        "def length(url):\n",
        "    return len(url)"
      ],
      "execution_count": 22,
      "outputs": []
    },
    {
      "cell_type": "code",
      "metadata": {
        "id": "Wi_clbpBA7cu"
      },
      "source": [
        "# @ 확인\n",
        "\n",
        "def sigh(url):\n",
        "    if '@' in url:  # 피싱\n",
        "        return 1\n",
        "    else:           # 피싱\n",
        "        return -1"
      ],
      "execution_count": 23,
      "outputs": []
    },
    {
      "cell_type": "code",
      "metadata": {
        "id": "I5fCxBg48gae"
      },
      "source": [
        "# redirection 확인\n",
        "import urllib.parse\n",
        "\n",
        "def redirection(url):\n",
        "    parse = urllib.parse.urlparse(url)\n",
        "    path = parse.path\n",
        "\n",
        "    if '//' in path: # 피싱\n",
        "        return 1\n",
        "    else:            # 정상\n",
        "        return -1"
      ],
      "execution_count": 24,
      "outputs": []
    },
    {
      "cell_type": "code",
      "metadata": {
        "id": "NvTCxArEBT_h"
      },
      "source": [
        "# IP 포함 확인\n",
        "\n",
        "def IPAddress(url) :\n",
        "    parse = urllib.parse.urlparse(url)\n",
        "    domain = parse.netloc.split('.')\n",
        "\n",
        "    try :\n",
        "        int(domain[-1], 0)      # 피싱\n",
        "        return 1\n",
        "    except ValueError :         # 정상\n",
        "        return -1"
      ],
      "execution_count": 25,
      "outputs": []
    },
    {
      "cell_type": "code",
      "metadata": {
        "id": "ao2UxqC2BzsD"
      },
      "source": [
        "# http로 시작하는지 확인\n",
        "\n",
        "def http(url):\n",
        "    if url.startswith('http://'):   # 피싱\n",
        "        return 1\n",
        "    else:                           # 정상\n",
        "        return -1"
      ],
      "execution_count": 26,
      "outputs": []
    },
    {
      "cell_type": "code",
      "metadata": {
        "id": "U10wxGpm9DTg"
      },
      "source": [
        "# - 확인\n",
        "\n",
        "def dash(url):\n",
        "    if '-' in url:  # 피싱\n",
        "        return 1\n",
        "    else:           # 정상\n",
        "        return -1"
      ],
      "execution_count": 27,
      "outputs": []
    },
    {
      "cell_type": "code",
      "metadata": {
        "id": "LatK54J-1ofj"
      },
      "source": [
        "# 사이트, 브랜드명 사용 여부\n",
        "from bs4 import BeautifulSoup\n",
        "\n",
        "topsite = []\n",
        "response = requests.get('https://www.alexa.com/topsites')\n",
        "html = response.text\n",
        "soup = BeautifulSoup(html, 'html.parser')\n",
        "for content in soup.select('#alx-content > div.row-fluid.TopSites.AlexaTool.padding20 > section.page-product-content.summary.padding20 > span > span > div > div > div.listings.table > div.tr.site-listing > div.td.DescriptionCell > p > a'):\n",
        "    topsite.append(content.get_text().split('.')[0].lower())\n",
        "\n",
        "def topsites(url):\n",
        "    domain = urllib.parse.urlparse(url).netloc.lower()\n",
        "    for site in topsite:\n",
        "        if site in domain:      # 피싱\n",
        "            return 1\n",
        "    return -1                   # 정상"
      ],
      "execution_count": 28,
      "outputs": []
    },
    {
      "cell_type": "code",
      "metadata": {
        "id": "NFxVssZY1HEz"
      },
      "source": [
        "# . 개수\n",
        "\n",
        "def dot(url):\n",
        "    return url.count('.')"
      ],
      "execution_count": 29,
      "outputs": []
    },
    {
      "cell_type": "code",
      "metadata": {
        "id": "65sASMJH6j-a"
      },
      "source": [
        "df_list = []\n",
        "index = 0\n",
        "\n",
        "for url in df['url'][:100]:\n",
        "    df_list.append([])\n",
        "\n",
        "    df_list[index].append(url_shorten_2(url))\n",
        "    df_list[index].append(length(url))\n",
        "    df_list[index].append(sigh(url))\n",
        "    df_list[index].append(redirection(url))\n",
        "    df_list[index].append(IPAddress(url))\n",
        "    df_list[index].append(http(url))\n",
        "    df_list[index].append(dash(url))\n",
        "    df_list[index].append(topsites(url))\n",
        "    df_list[index].append(dot(url))\n",
        "\n",
        "    index += 1"
      ],
      "execution_count": 31,
      "outputs": []
    },
    {
      "cell_type": "code",
      "metadata": {
        "colab": {
          "base_uri": "https://localhost:8080/"
        },
        "id": "ClnrDrp5944o",
        "outputId": "a72abcb1-cd92-4f50-93ab-1ca128deef2d"
      },
      "source": [
        "for i in range(10):\n",
        "    print(df_list[i])"
      ],
      "execution_count": 32,
      "outputs": [
        {
          "output_type": "stream",
          "text": [
            "[-1, 45, -1, -1, -1, 1, -1, -1, 3]\n",
            "[-1, 50, -1, -1, -1, 1, -1, -1, 1]\n",
            "[-1, 40, -1, -1, -1, 1, -1, -1, 1]\n",
            "[-1, 47, -1, -1, -1, -1, -1, -1, 3]\n",
            "[-1, 41, -1, -1, -1, 1, -1, -1, 1]\n",
            "[-1, 37, -1, -1, -1, -1, -1, -1, 2]\n",
            "[-1, 36, -1, -1, -1, 1, -1, -1, 2]\n",
            "[-1, 36, -1, -1, -1, -1, -1, -1, 2]\n",
            "[-1, 34, -1, -1, -1, -1, -1, -1, 2]\n",
            "[-1, 34, -1, -1, -1, -1, -1, -1, 2]\n"
          ],
          "name": "stdout"
        }
      ]
    },
    {
      "cell_type": "markdown",
      "metadata": {
        "id": "nHyl1ekEAcRn"
      },
      "source": [
        "## 데이터프레임 변환"
      ]
    },
    {
      "cell_type": "code",
      "metadata": {
        "id": "ZzQPtLoyAbxP"
      },
      "source": [
        "columns = ['url_shorten', 'length', 'sigh', 'redirection', 'IP', 'http', 'dash', 'topsites', 'dot']\n",
        "preprocessed_df = pd.DataFrame(df_list, columns=columns)"
      ],
      "execution_count": 33,
      "outputs": []
    },
    {
      "cell_type": "code",
      "metadata": {
        "colab": {
          "base_uri": "https://localhost:8080/"
        },
        "id": "yxlVfCqlArPc",
        "outputId": "8777c190-e004-40c6-dcd4-c3f39f699a47"
      },
      "source": [
        "preprocessed_df.info()"
      ],
      "execution_count": 34,
      "outputs": [
        {
          "output_type": "stream",
          "text": [
            "<class 'pandas.core.frame.DataFrame'>\n",
            "RangeIndex: 100 entries, 0 to 99\n",
            "Data columns (total 9 columns):\n",
            " #   Column       Non-Null Count  Dtype\n",
            "---  ------       --------------  -----\n",
            " 0   url_shorten  100 non-null    int64\n",
            " 1   length       100 non-null    int64\n",
            " 2   sigh         100 non-null    int64\n",
            " 3   redirection  100 non-null    int64\n",
            " 4   IP           100 non-null    int64\n",
            " 5   http         100 non-null    int64\n",
            " 6   dash         100 non-null    int64\n",
            " 7   topsites     100 non-null    int64\n",
            " 8   dot          100 non-null    int64\n",
            "dtypes: int64(9)\n",
            "memory usage: 7.2 KB\n"
          ],
          "name": "stdout"
        }
      ]
    },
    {
      "cell_type": "code",
      "metadata": {
        "colab": {
          "base_uri": "https://localhost:8080/",
          "height": 203
        },
        "id": "T6qSqaFuAx-8",
        "outputId": "b08f25d1-db56-4218-94f5-78d5f7048c57"
      },
      "source": [
        "preprocessed_df.head()"
      ],
      "execution_count": 35,
      "outputs": [
        {
          "output_type": "execute_result",
          "data": {
            "text/html": [
              "<div>\n",
              "<style scoped>\n",
              "    .dataframe tbody tr th:only-of-type {\n",
              "        vertical-align: middle;\n",
              "    }\n",
              "\n",
              "    .dataframe tbody tr th {\n",
              "        vertical-align: top;\n",
              "    }\n",
              "\n",
              "    .dataframe thead th {\n",
              "        text-align: right;\n",
              "    }\n",
              "</style>\n",
              "<table border=\"1\" class=\"dataframe\">\n",
              "  <thead>\n",
              "    <tr style=\"text-align: right;\">\n",
              "      <th></th>\n",
              "      <th>url_shorten</th>\n",
              "      <th>length</th>\n",
              "      <th>sigh</th>\n",
              "      <th>redirection</th>\n",
              "      <th>IP</th>\n",
              "      <th>http</th>\n",
              "      <th>dash</th>\n",
              "      <th>topsites</th>\n",
              "      <th>dot</th>\n",
              "    </tr>\n",
              "  </thead>\n",
              "  <tbody>\n",
              "    <tr>\n",
              "      <th>0</th>\n",
              "      <td>-1</td>\n",
              "      <td>45</td>\n",
              "      <td>-1</td>\n",
              "      <td>-1</td>\n",
              "      <td>-1</td>\n",
              "      <td>1</td>\n",
              "      <td>-1</td>\n",
              "      <td>-1</td>\n",
              "      <td>3</td>\n",
              "    </tr>\n",
              "    <tr>\n",
              "      <th>1</th>\n",
              "      <td>-1</td>\n",
              "      <td>50</td>\n",
              "      <td>-1</td>\n",
              "      <td>-1</td>\n",
              "      <td>-1</td>\n",
              "      <td>1</td>\n",
              "      <td>-1</td>\n",
              "      <td>-1</td>\n",
              "      <td>1</td>\n",
              "    </tr>\n",
              "    <tr>\n",
              "      <th>2</th>\n",
              "      <td>-1</td>\n",
              "      <td>40</td>\n",
              "      <td>-1</td>\n",
              "      <td>-1</td>\n",
              "      <td>-1</td>\n",
              "      <td>1</td>\n",
              "      <td>-1</td>\n",
              "      <td>-1</td>\n",
              "      <td>1</td>\n",
              "    </tr>\n",
              "    <tr>\n",
              "      <th>3</th>\n",
              "      <td>-1</td>\n",
              "      <td>47</td>\n",
              "      <td>-1</td>\n",
              "      <td>-1</td>\n",
              "      <td>-1</td>\n",
              "      <td>-1</td>\n",
              "      <td>-1</td>\n",
              "      <td>-1</td>\n",
              "      <td>3</td>\n",
              "    </tr>\n",
              "    <tr>\n",
              "      <th>4</th>\n",
              "      <td>-1</td>\n",
              "      <td>41</td>\n",
              "      <td>-1</td>\n",
              "      <td>-1</td>\n",
              "      <td>-1</td>\n",
              "      <td>1</td>\n",
              "      <td>-1</td>\n",
              "      <td>-1</td>\n",
              "      <td>1</td>\n",
              "    </tr>\n",
              "  </tbody>\n",
              "</table>\n",
              "</div>"
            ],
            "text/plain": [
              "   url_shorten  length  sigh  redirection  IP  http  dash  topsites  dot\n",
              "0           -1      45    -1           -1  -1     1    -1        -1    3\n",
              "1           -1      50    -1           -1  -1     1    -1        -1    1\n",
              "2           -1      40    -1           -1  -1     1    -1        -1    1\n",
              "3           -1      47    -1           -1  -1    -1    -1        -1    3\n",
              "4           -1      41    -1           -1  -1     1    -1        -1    1"
            ]
          },
          "metadata": {
            "tags": []
          },
          "execution_count": 35
        }
      ]
    },
    {
      "cell_type": "code",
      "metadata": {
        "colab": {
          "base_uri": "https://localhost:8080/",
          "height": 315
        },
        "id": "AqWf9EkgCmTg",
        "outputId": "3c5b2445-234e-4f57-fa33-bda684fdaf19"
      },
      "source": [
        "preprocessed_df.describe()"
      ],
      "execution_count": 36,
      "outputs": [
        {
          "output_type": "execute_result",
          "data": {
            "text/html": [
              "<div>\n",
              "<style scoped>\n",
              "    .dataframe tbody tr th:only-of-type {\n",
              "        vertical-align: middle;\n",
              "    }\n",
              "\n",
              "    .dataframe tbody tr th {\n",
              "        vertical-align: top;\n",
              "    }\n",
              "\n",
              "    .dataframe thead th {\n",
              "        text-align: right;\n",
              "    }\n",
              "</style>\n",
              "<table border=\"1\" class=\"dataframe\">\n",
              "  <thead>\n",
              "    <tr style=\"text-align: right;\">\n",
              "      <th></th>\n",
              "      <th>url_shorten</th>\n",
              "      <th>length</th>\n",
              "      <th>sigh</th>\n",
              "      <th>redirection</th>\n",
              "      <th>IP</th>\n",
              "      <th>http</th>\n",
              "      <th>dash</th>\n",
              "      <th>topsites</th>\n",
              "      <th>dot</th>\n",
              "    </tr>\n",
              "  </thead>\n",
              "  <tbody>\n",
              "    <tr>\n",
              "      <th>count</th>\n",
              "      <td>100.000000</td>\n",
              "      <td>100.000000</td>\n",
              "      <td>100.00</td>\n",
              "      <td>100.0</td>\n",
              "      <td>100.0</td>\n",
              "      <td>100.000000</td>\n",
              "      <td>100.000000</td>\n",
              "      <td>100.000000</td>\n",
              "      <td>100.00000</td>\n",
              "    </tr>\n",
              "    <tr>\n",
              "      <th>mean</th>\n",
              "      <td>-0.680000</td>\n",
              "      <td>59.860000</td>\n",
              "      <td>-0.98</td>\n",
              "      <td>-1.0</td>\n",
              "      <td>-1.0</td>\n",
              "      <td>-0.080000</td>\n",
              "      <td>-0.240000</td>\n",
              "      <td>-0.940000</td>\n",
              "      <td>2.33000</td>\n",
              "    </tr>\n",
              "    <tr>\n",
              "      <th>std</th>\n",
              "      <td>0.736906</td>\n",
              "      <td>50.509529</td>\n",
              "      <td>0.20</td>\n",
              "      <td>0.0</td>\n",
              "      <td>0.0</td>\n",
              "      <td>1.001817</td>\n",
              "      <td>0.975663</td>\n",
              "      <td>0.342893</td>\n",
              "      <td>1.35628</td>\n",
              "    </tr>\n",
              "    <tr>\n",
              "      <th>min</th>\n",
              "      <td>-1.000000</td>\n",
              "      <td>19.000000</td>\n",
              "      <td>-1.00</td>\n",
              "      <td>-1.0</td>\n",
              "      <td>-1.0</td>\n",
              "      <td>-1.000000</td>\n",
              "      <td>-1.000000</td>\n",
              "      <td>-1.000000</td>\n",
              "      <td>1.00000</td>\n",
              "    </tr>\n",
              "    <tr>\n",
              "      <th>25%</th>\n",
              "      <td>-1.000000</td>\n",
              "      <td>36.000000</td>\n",
              "      <td>-1.00</td>\n",
              "      <td>-1.0</td>\n",
              "      <td>-1.0</td>\n",
              "      <td>-1.000000</td>\n",
              "      <td>-1.000000</td>\n",
              "      <td>-1.000000</td>\n",
              "      <td>2.00000</td>\n",
              "    </tr>\n",
              "    <tr>\n",
              "      <th>50%</th>\n",
              "      <td>-1.000000</td>\n",
              "      <td>42.500000</td>\n",
              "      <td>-1.00</td>\n",
              "      <td>-1.0</td>\n",
              "      <td>-1.0</td>\n",
              "      <td>-1.000000</td>\n",
              "      <td>-1.000000</td>\n",
              "      <td>-1.000000</td>\n",
              "      <td>2.00000</td>\n",
              "    </tr>\n",
              "    <tr>\n",
              "      <th>75%</th>\n",
              "      <td>-1.000000</td>\n",
              "      <td>67.750000</td>\n",
              "      <td>-1.00</td>\n",
              "      <td>-1.0</td>\n",
              "      <td>-1.0</td>\n",
              "      <td>1.000000</td>\n",
              "      <td>1.000000</td>\n",
              "      <td>-1.000000</td>\n",
              "      <td>2.25000</td>\n",
              "    </tr>\n",
              "    <tr>\n",
              "      <th>max</th>\n",
              "      <td>1.000000</td>\n",
              "      <td>373.000000</td>\n",
              "      <td>1.00</td>\n",
              "      <td>-1.0</td>\n",
              "      <td>-1.0</td>\n",
              "      <td>1.000000</td>\n",
              "      <td>1.000000</td>\n",
              "      <td>1.000000</td>\n",
              "      <td>12.00000</td>\n",
              "    </tr>\n",
              "  </tbody>\n",
              "</table>\n",
              "</div>"
            ],
            "text/plain": [
              "       url_shorten      length    sigh  ...        dash    topsites        dot\n",
              "count   100.000000  100.000000  100.00  ...  100.000000  100.000000  100.00000\n",
              "mean     -0.680000   59.860000   -0.98  ...   -0.240000   -0.940000    2.33000\n",
              "std       0.736906   50.509529    0.20  ...    0.975663    0.342893    1.35628\n",
              "min      -1.000000   19.000000   -1.00  ...   -1.000000   -1.000000    1.00000\n",
              "25%      -1.000000   36.000000   -1.00  ...   -1.000000   -1.000000    2.00000\n",
              "50%      -1.000000   42.500000   -1.00  ...   -1.000000   -1.000000    2.00000\n",
              "75%      -1.000000   67.750000   -1.00  ...    1.000000   -1.000000    2.25000\n",
              "max       1.000000  373.000000    1.00  ...    1.000000    1.000000   12.00000\n",
              "\n",
              "[8 rows x 9 columns]"
            ]
          },
          "metadata": {
            "tags": []
          },
          "execution_count": 36
        }
      ]
    }
  ]
}